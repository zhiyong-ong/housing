{
 "cells": [
  {
   "cell_type": "code",
   "execution_count": 29,
   "metadata": {},
   "outputs": [],
   "source": [
    "import pandas as pd\n",
    "import json\n",
    "import numpy as np\n",
    "df = pd.read_csv('/home/jamesong/Desktop/Projects/housing/server/data/total_transactions.csv')"
   ]
  },
  {
   "cell_type": "code",
   "execution_count": 3,
   "metadata": {},
   "outputs": [
    {
     "name": "stdout",
     "output_type": "stream",
     "text": [
      "0 {'project_name': 'BLAIR PLAIN CONSERVATION AREA', 'street_name': 'EVERTON ROAD', 'property_type': 'Terrace', 'postal_district': '2', 'market_segment': 'RCR', 'tenure': 'Freehold', 'type_of_sale': 'Resale', 'num_units': '1', 'price': '3800000', 'nett_price': '-', 'area_sqft': '1668', 'type_of_area': 'Land', 'floor': '-', 'unit_price_psf': '2278', 'reference_period': '2020-08-31', 'area_sqm': '154.96098104793757', 'unit_price_psm': '24520.392'}\n",
      "2\n"
     ]
    }
   ],
   "source": [
    "import csv\n",
    "\n",
    "with open('/home/jamesong/Desktop/Projects/housing/server/data/total_transactions.csv', 'r') as f:\n",
    "    d = csv.DictReader(f, delimiter=',')\n",
    "    for index, data in enumerate(d):\n",
    "        print(index, data)\n",
    "        print(d.line_num)\n",
    "        break\n",
    "        "
   ]
  },
  {
   "cell_type": "code",
   "execution_count": 2,
   "metadata": {},
   "outputs": [
    {
     "data": {
      "text/html": [
       "<div>\n",
       "<style scoped>\n",
       "    .dataframe tbody tr th:only-of-type {\n",
       "        vertical-align: middle;\n",
       "    }\n",
       "\n",
       "    .dataframe tbody tr th {\n",
       "        vertical-align: top;\n",
       "    }\n",
       "\n",
       "    .dataframe thead th {\n",
       "        text-align: right;\n",
       "    }\n",
       "</style>\n",
       "<table border=\"1\" class=\"dataframe\">\n",
       "  <thead>\n",
       "    <tr style=\"text-align: right;\">\n",
       "      <th></th>\n",
       "      <th>y</th>\n",
       "      <th>x</th>\n",
       "      <th>street</th>\n",
       "      <th>project</th>\n",
       "      <th>market_segment</th>\n",
       "      <th>area_sqm</th>\n",
       "      <th>area_sqft</th>\n",
       "      <th>price</th>\n",
       "      <th>nett_price</th>\n",
       "      <th>unit_price_psm</th>\n",
       "      <th>unit_price_psf</th>\n",
       "      <th>floor_range</th>\n",
       "      <th>num_units</th>\n",
       "      <th>reference_period</th>\n",
       "      <th>type_of_sale</th>\n",
       "      <th>property_type</th>\n",
       "      <th>district</th>\n",
       "      <th>type_of_area</th>\n",
       "      <th>tenure</th>\n",
       "      <th>observation_time</th>\n",
       "    </tr>\n",
       "  </thead>\n",
       "  <tbody>\n",
       "    <tr>\n",
       "      <th>0</th>\n",
       "      <td>29491.915576</td>\n",
       "      <td>22726.561999</td>\n",
       "      <td>ZEHNDER ROAD</td>\n",
       "      <td>LANDED HOUSING DEVELOPMENT</td>\n",
       "      <td>RCR</td>\n",
       "      <td>314.0</td>\n",
       "      <td>3379.867872</td>\n",
       "      <td>4750000.0</td>\n",
       "      <td>NaN</td>\n",
       "      <td>15127.388535</td>\n",
       "      <td>1405.380382</td>\n",
       "      <td>-</td>\n",
       "      <td>1</td>\n",
       "      <td>2018-06-30</td>\n",
       "      <td>Resale</td>\n",
       "      <td>Semi-detached</td>\n",
       "      <td>5</td>\n",
       "      <td>Land</td>\n",
       "      <td>Freehold</td>\n",
       "      <td>2020-04-11 15:24:53.293101</td>\n",
       "    </tr>\n",
       "    <tr>\n",
       "      <th>1</th>\n",
       "      <td>29491.915576</td>\n",
       "      <td>22726.561999</td>\n",
       "      <td>ZEHNDER ROAD</td>\n",
       "      <td>LANDED HOUSING DEVELOPMENT</td>\n",
       "      <td>RCR</td>\n",
       "      <td>308.0</td>\n",
       "      <td>3315.284409</td>\n",
       "      <td>5000000.0</td>\n",
       "      <td>NaN</td>\n",
       "      <td>16233.766234</td>\n",
       "      <td>1508.166233</td>\n",
       "      <td>-</td>\n",
       "      <td>1</td>\n",
       "      <td>2018-09-30</td>\n",
       "      <td>Resale</td>\n",
       "      <td>Semi-detached</td>\n",
       "      <td>5</td>\n",
       "      <td>Land</td>\n",
       "      <td>Freehold</td>\n",
       "      <td>2020-04-11 15:24:53.293101</td>\n",
       "    </tr>\n",
       "    <tr>\n",
       "      <th>2</th>\n",
       "      <td>29491.915576</td>\n",
       "      <td>22726.561999</td>\n",
       "      <td>ZEHNDER ROAD</td>\n",
       "      <td>LANDED HOUSING DEVELOPMENT</td>\n",
       "      <td>RCR</td>\n",
       "      <td>524.3</td>\n",
       "      <td>5643.518233</td>\n",
       "      <td>5500000.0</td>\n",
       "      <td>NaN</td>\n",
       "      <td>10490.177379</td>\n",
       "      <td>974.569368</td>\n",
       "      <td>-</td>\n",
       "      <td>1</td>\n",
       "      <td>2020-02-29</td>\n",
       "      <td>Resale</td>\n",
       "      <td>Semi-detached</td>\n",
       "      <td>5</td>\n",
       "      <td>Land</td>\n",
       "      <td>Freehold</td>\n",
       "      <td>2020-04-11 15:24:53.293101</td>\n",
       "    </tr>\n",
       "    <tr>\n",
       "      <th>3</th>\n",
       "      <td>25005.804519</td>\n",
       "      <td>28384.068816</td>\n",
       "      <td>COVE DRIVE</td>\n",
       "      <td>TURQUOISE</td>\n",
       "      <td>CCR</td>\n",
       "      <td>348.0</td>\n",
       "      <td>3745.840826</td>\n",
       "      <td>4400000.0</td>\n",
       "      <td>NaN</td>\n",
       "      <td>12643.678161</td>\n",
       "      <td>1174.636138</td>\n",
       "      <td>06-10</td>\n",
       "      <td>1</td>\n",
       "      <td>2018-09-30</td>\n",
       "      <td>Resale</td>\n",
       "      <td>Condominium</td>\n",
       "      <td>4</td>\n",
       "      <td>Strata</td>\n",
       "      <td>99 yrs lease commencing from 2007</td>\n",
       "      <td>2020-04-11 15:24:53.293101</td>\n",
       "    </tr>\n",
       "    <tr>\n",
       "      <th>4</th>\n",
       "      <td>25005.804519</td>\n",
       "      <td>28384.068816</td>\n",
       "      <td>COVE DRIVE</td>\n",
       "      <td>TURQUOISE</td>\n",
       "      <td>CCR</td>\n",
       "      <td>224.0</td>\n",
       "      <td>2411.115934</td>\n",
       "      <td>3600000.0</td>\n",
       "      <td>NaN</td>\n",
       "      <td>16071.428571</td>\n",
       "      <td>1493.084571</td>\n",
       "      <td>01-05</td>\n",
       "      <td>1</td>\n",
       "      <td>2018-03-31</td>\n",
       "      <td>Resale</td>\n",
       "      <td>Condominium</td>\n",
       "      <td>4</td>\n",
       "      <td>Strata</td>\n",
       "      <td>99 yrs lease commencing from 2007</td>\n",
       "      <td>2020-04-11 15:24:53.293101</td>\n",
       "    </tr>\n",
       "    <tr>\n",
       "      <th>...</th>\n",
       "      <td>...</td>\n",
       "      <td>...</td>\n",
       "      <td>...</td>\n",
       "      <td>...</td>\n",
       "      <td>...</td>\n",
       "      <td>...</td>\n",
       "      <td>...</td>\n",
       "      <td>...</td>\n",
       "      <td>...</td>\n",
       "      <td>...</td>\n",
       "      <td>...</td>\n",
       "      <td>...</td>\n",
       "      <td>...</td>\n",
       "      <td>...</td>\n",
       "      <td>...</td>\n",
       "      <td>...</td>\n",
       "      <td>...</td>\n",
       "      <td>...</td>\n",
       "      <td>...</td>\n",
       "      <td>...</td>\n",
       "    </tr>\n",
       "    <tr>\n",
       "      <th>68807</th>\n",
       "      <td>40230.126479</td>\n",
       "      <td>32587.288052</td>\n",
       "      <td>SELETAR GREEN WALK</td>\n",
       "      <td>LUXUS HILLS</td>\n",
       "      <td>OCR</td>\n",
       "      <td>150.0</td>\n",
       "      <td>1614.586563</td>\n",
       "      <td>3398000.0</td>\n",
       "      <td>NaN</td>\n",
       "      <td>22653.333333</td>\n",
       "      <td>2104.563532</td>\n",
       "      <td>-</td>\n",
       "      <td>1</td>\n",
       "      <td>2020-04-30</td>\n",
       "      <td>Resale</td>\n",
       "      <td>Terrace</td>\n",
       "      <td>28</td>\n",
       "      <td>Land</td>\n",
       "      <td>999 yrs lease commencing from 1879</td>\n",
       "      <td>2020-05-15 00:07:42.224813</td>\n",
       "    </tr>\n",
       "    <tr>\n",
       "      <th>68808</th>\n",
       "      <td>40230.126479</td>\n",
       "      <td>32587.288052</td>\n",
       "      <td>SELETAR GREEN WALK</td>\n",
       "      <td>LUXUS HILLS</td>\n",
       "      <td>OCR</td>\n",
       "      <td>205.0</td>\n",
       "      <td>2206.601636</td>\n",
       "      <td>3738000.0</td>\n",
       "      <td>NaN</td>\n",
       "      <td>18234.146341</td>\n",
       "      <td>1694.007626</td>\n",
       "      <td>-</td>\n",
       "      <td>1</td>\n",
       "      <td>2020-04-30</td>\n",
       "      <td>Resale</td>\n",
       "      <td>Terrace</td>\n",
       "      <td>28</td>\n",
       "      <td>Land</td>\n",
       "      <td>999 yrs lease commencing from 1879</td>\n",
       "      <td>2020-05-15 00:07:42.224813</td>\n",
       "    </tr>\n",
       "    <tr>\n",
       "      <th>68809</th>\n",
       "      <td>40230.126479</td>\n",
       "      <td>32587.288052</td>\n",
       "      <td>SELETAR GREEN WALK</td>\n",
       "      <td>LUXUS HILLS</td>\n",
       "      <td>OCR</td>\n",
       "      <td>224.7</td>\n",
       "      <td>2418.650671</td>\n",
       "      <td>4398000.0</td>\n",
       "      <td>NaN</td>\n",
       "      <td>19572.763685</td>\n",
       "      <td>1818.369247</td>\n",
       "      <td>-</td>\n",
       "      <td>1</td>\n",
       "      <td>2020-04-30</td>\n",
       "      <td>Resale</td>\n",
       "      <td>Terrace</td>\n",
       "      <td>28</td>\n",
       "      <td>Land</td>\n",
       "      <td>999 yrs lease commencing from 1879</td>\n",
       "      <td>2020-05-15 00:07:42.224813</td>\n",
       "    </tr>\n",
       "    <tr>\n",
       "      <th>68810</th>\n",
       "      <td>45560.437100</td>\n",
       "      <td>28390.147000</td>\n",
       "      <td>YISHUN CENTRAL 1</td>\n",
       "      <td>NORTH PARK RESIDENCES</td>\n",
       "      <td>OCR</td>\n",
       "      <td>73.0</td>\n",
       "      <td>785.765461</td>\n",
       "      <td>960000.0</td>\n",
       "      <td>NaN</td>\n",
       "      <td>13150.684932</td>\n",
       "      <td>1221.738608</td>\n",
       "      <td>11-15</td>\n",
       "      <td>1</td>\n",
       "      <td>2020-04-30</td>\n",
       "      <td>Sub Sale</td>\n",
       "      <td>Apartment</td>\n",
       "      <td>27</td>\n",
       "      <td>Strata</td>\n",
       "      <td>99 yrs lease commencing from 2015</td>\n",
       "      <td>2020-05-15 00:07:42.224813</td>\n",
       "    </tr>\n",
       "    <tr>\n",
       "      <th>68811</th>\n",
       "      <td>45560.437100</td>\n",
       "      <td>28390.147000</td>\n",
       "      <td>YISHUN CENTRAL 1</td>\n",
       "      <td>NORTH PARK RESIDENCES</td>\n",
       "      <td>OCR</td>\n",
       "      <td>52.0</td>\n",
       "      <td>559.723342</td>\n",
       "      <td>820000.0</td>\n",
       "      <td>NaN</td>\n",
       "      <td>15769.230769</td>\n",
       "      <td>1465.009476</td>\n",
       "      <td>11-15</td>\n",
       "      <td>1</td>\n",
       "      <td>2020-05-31</td>\n",
       "      <td>Sub Sale</td>\n",
       "      <td>Apartment</td>\n",
       "      <td>27</td>\n",
       "      <td>Strata</td>\n",
       "      <td>99 yrs lease commencing from 2015</td>\n",
       "      <td>2020-05-15 00:07:42.224813</td>\n",
       "    </tr>\n",
       "  </tbody>\n",
       "</table>\n",
       "<p>68812 rows × 20 columns</p>\n",
       "</div>"
      ],
      "text/plain": [
       "                  y             x              street  \\\n",
       "0      29491.915576  22726.561999        ZEHNDER ROAD   \n",
       "1      29491.915576  22726.561999        ZEHNDER ROAD   \n",
       "2      29491.915576  22726.561999        ZEHNDER ROAD   \n",
       "3      25005.804519  28384.068816          COVE DRIVE   \n",
       "4      25005.804519  28384.068816          COVE DRIVE   \n",
       "...             ...           ...                 ...   \n",
       "68807  40230.126479  32587.288052  SELETAR GREEN WALK   \n",
       "68808  40230.126479  32587.288052  SELETAR GREEN WALK   \n",
       "68809  40230.126479  32587.288052  SELETAR GREEN WALK   \n",
       "68810  45560.437100  28390.147000    YISHUN CENTRAL 1   \n",
       "68811  45560.437100  28390.147000    YISHUN CENTRAL 1   \n",
       "\n",
       "                          project market_segment  area_sqm    area_sqft  \\\n",
       "0      LANDED HOUSING DEVELOPMENT            RCR     314.0  3379.867872   \n",
       "1      LANDED HOUSING DEVELOPMENT            RCR     308.0  3315.284409   \n",
       "2      LANDED HOUSING DEVELOPMENT            RCR     524.3  5643.518233   \n",
       "3                       TURQUOISE            CCR     348.0  3745.840826   \n",
       "4                       TURQUOISE            CCR     224.0  2411.115934   \n",
       "...                           ...            ...       ...          ...   \n",
       "68807                 LUXUS HILLS            OCR     150.0  1614.586563   \n",
       "68808                 LUXUS HILLS            OCR     205.0  2206.601636   \n",
       "68809                 LUXUS HILLS            OCR     224.7  2418.650671   \n",
       "68810       NORTH PARK RESIDENCES            OCR      73.0   785.765461   \n",
       "68811       NORTH PARK RESIDENCES            OCR      52.0   559.723342   \n",
       "\n",
       "           price  nett_price  unit_price_psm  unit_price_psf floor_range  \\\n",
       "0      4750000.0         NaN    15127.388535     1405.380382           -   \n",
       "1      5000000.0         NaN    16233.766234     1508.166233           -   \n",
       "2      5500000.0         NaN    10490.177379      974.569368           -   \n",
       "3      4400000.0         NaN    12643.678161     1174.636138       06-10   \n",
       "4      3600000.0         NaN    16071.428571     1493.084571       01-05   \n",
       "...          ...         ...             ...             ...         ...   \n",
       "68807  3398000.0         NaN    22653.333333     2104.563532           -   \n",
       "68808  3738000.0         NaN    18234.146341     1694.007626           -   \n",
       "68809  4398000.0         NaN    19572.763685     1818.369247           -   \n",
       "68810   960000.0         NaN    13150.684932     1221.738608       11-15   \n",
       "68811   820000.0         NaN    15769.230769     1465.009476       11-15   \n",
       "\n",
       "       num_units reference_period type_of_sale  property_type  district  \\\n",
       "0              1       2018-06-30       Resale  Semi-detached         5   \n",
       "1              1       2018-09-30       Resale  Semi-detached         5   \n",
       "2              1       2020-02-29       Resale  Semi-detached         5   \n",
       "3              1       2018-09-30       Resale    Condominium         4   \n",
       "4              1       2018-03-31       Resale    Condominium         4   \n",
       "...          ...              ...          ...            ...       ...   \n",
       "68807          1       2020-04-30       Resale        Terrace        28   \n",
       "68808          1       2020-04-30       Resale        Terrace        28   \n",
       "68809          1       2020-04-30       Resale        Terrace        28   \n",
       "68810          1       2020-04-30     Sub Sale      Apartment        27   \n",
       "68811          1       2020-05-31     Sub Sale      Apartment        27   \n",
       "\n",
       "      type_of_area                              tenure  \\\n",
       "0             Land                            Freehold   \n",
       "1             Land                            Freehold   \n",
       "2             Land                            Freehold   \n",
       "3           Strata   99 yrs lease commencing from 2007   \n",
       "4           Strata   99 yrs lease commencing from 2007   \n",
       "...            ...                                 ...   \n",
       "68807         Land  999 yrs lease commencing from 1879   \n",
       "68808         Land  999 yrs lease commencing from 1879   \n",
       "68809         Land  999 yrs lease commencing from 1879   \n",
       "68810       Strata   99 yrs lease commencing from 2015   \n",
       "68811       Strata   99 yrs lease commencing from 2015   \n",
       "\n",
       "                 observation_time  \n",
       "0      2020-04-11 15:24:53.293101  \n",
       "1      2020-04-11 15:24:53.293101  \n",
       "2      2020-04-11 15:24:53.293101  \n",
       "3      2020-04-11 15:24:53.293101  \n",
       "4      2020-04-11 15:24:53.293101  \n",
       "...                           ...  \n",
       "68807  2020-05-15 00:07:42.224813  \n",
       "68808  2020-05-15 00:07:42.224813  \n",
       "68809  2020-05-15 00:07:42.224813  \n",
       "68810  2020-05-15 00:07:42.224813  \n",
       "68811  2020-05-15 00:07:42.224813  \n",
       "\n",
       "[68812 rows x 20 columns]"
      ]
     },
     "execution_count": 2,
     "metadata": {},
     "output_type": "execute_result"
    }
   ],
   "source": [
    "df"
   ]
  },
  {
   "cell_type": "code",
   "execution_count": 34,
   "metadata": {},
   "outputs": [],
   "source": [
    "format_df = df.groupby(['district', 'reference_period'])['unit_price_psf'].mean().unstack(level=0)\n",
    "format_df = format_df.rename(columns=str)\n",
    "\n",
    "json_res = []\n",
    "for column in format_df:\n",
    "    if column == '6':\n",
    "        break\n",
    "    district_res = {}\n",
    "    district_res['id'] = f\"District {column}\"\n",
    "    district_res['data'] = []\n",
    "    for index, data in format_df[column].items():\n",
    "        if np.isnan(data):\n",
    "            district_res['data'].append({'x': index, 'y': None})\n",
    "        else:\n",
    "            district_res['data'].append({'x': index, 'y': data})\n",
    "    json_res.append(district_res)\n",
    "\n",
    "with open('data/avg_unit_price_psf.json', 'w') as f:\n",
    "\n",
    "    f.write(json.dumps(json_res))"
   ]
  },
  {
   "cell_type": "code",
   "execution_count": 21,
   "metadata": {},
   "outputs": [
    {
     "data": {
      "text/plain": [
       "<Response [200]>"
      ]
     },
     "execution_count": 21,
     "metadata": {},
     "output_type": "execute_result"
    }
   ],
   "source": [
    "import requests\n",
    "url = 'https://data.gov.sg/api/action/datastore_search?resource_id=42ff9cfe-abe5-4b54-beda-c88f9bb438ee&limit=5'\n",
    "resp = requests.get(url)\n",
    "resp"
   ]
  },
  {
   "cell_type": "code",
   "execution_count": null,
   "metadata": {},
   "outputs": [],
   "source": []
  },
  {
   "cell_type": "code",
   "execution_count": 4,
   "metadata": {},
   "outputs": [
    {
     "data": {
      "text/plain": [
       "1"
      ]
     },
     "execution_count": 4,
     "metadata": {},
     "output_type": "execute_result"
    }
   ],
   "source": [
    "import math\n",
    "\n",
    "math.ceil(0.5)"
   ]
  },
  {
   "cell_type": "code",
   "execution_count": 25,
   "metadata": {},
   "outputs": [
    {
     "data": {
      "text/plain": [
       "25"
      ]
     },
     "execution_count": 25,
     "metadata": {},
     "output_type": "execute_result"
    }
   ],
   "source": [
    "max_ascii_val = ord('z') - ord('a')\n",
    "max_ascii_val"
   ]
  },
  {
   "cell_type": "code",
   "execution_count": 47,
   "metadata": {},
   "outputs": [],
   "source": [
    "from collections import defaultdict\n",
    "\n",
    "def convert_to_ascii_arr(string, offset):\n",
    "    return [ord(char) - offset for char in string]\n",
    "\n",
    "\n",
    "def get_most_common_ascii(ascii_val_arr):\n",
    "    print(ascii_val_arr)\n",
    "    # get most occurences of ascii val in target\n",
    "    ascii_occurrence = defaultdict(int)\n",
    "    for ascii_val in ascii_val_arr:\n",
    "        ascii_occurrence[ascii_val] += 1\n",
    "\n",
    "    most_common_key, most_common_value = None, 0\n",
    "    for key, value in ascii_occurrence.items():\n",
    "        if value > most_common_value:\n",
    "            most_common_value = value\n",
    "            most_common_key = key\n",
    "            print(most_common_key)\n",
    "    return most_common_key\n",
    "\n",
    "\n",
    "def get_caesar_shifted_source(source, target):\n",
    "    max_ascii_val = ord('z') - ord('a') + 1\n",
    "    source_ascii_val_arr = convert_to_ascii_arr(source, ord('a'))\n",
    "    target_ascii_val_arr = convert_to_ascii_arr(target, ord('a'))\n",
    "\n",
    "    most_common_source_ascii_val = get_most_common_ascii(source_ascii_val_arr)\n",
    "    most_common_target_ascii_val = get_most_common_ascii(target_ascii_val_arr)\n",
    "    print(most_common_source_ascii_val, most_common_target_ascii_val)\n",
    "    distance = (most_common_target_ascii_val - most_common_source_ascii_val) % max_ascii_val\n",
    "\n",
    "    # shift the ascii val in source\n",
    "    shifted_source_ascii_val_arr = []\n",
    "    for ascii_val in source_ascii_val_arr:\n",
    "        shifted_val = (ascii_val + distance) % max_ascii_val\n",
    "        shifted_source_ascii_val_arr.append(shifted_val)\n",
    "    return shifted_source_ascii_val_arr\n"
   ]
  },
  {
   "cell_type": "code",
   "execution_count": 9,
   "metadata": {},
   "outputs": [],
   "source": [
    "def edit_distance(str1, str2, index1, index2):\n",
    "    if index1 < 0 and index2 < 0:\n",
    "        return 0\n",
    "    \n",
    "    # if first string is empty, we need to insert all characters from second string\n",
    "    if index1 < 0:\n",
    "        return index2\n",
    "    # if second string is empty, we need to delete all characters from first string\n",
    "    if index2 < 0:\n",
    "        return index1\n",
    "    \n",
    "    # both characters are the same. ignore and reduce index\n",
    "    if str1[index1] == str2[index2]:\n",
    "        return edit_distance(str1, str2, index1-1, index2-1)\n",
    "\n",
    "    # if both characters not the same, recursively compute min cost\n",
    "    return 1 + min(edit_distance(str1, str2, index1, index2-1), # insert character into string1 from string2\n",
    "                   edit_distance(str1, str2, index1-1, index2), # delete character from string1\n",
    "                   edit_distance(str1, str2, index1-1, index2-1), # replace character from string 1\n",
    "                  )"
   ]
  },
  {
   "cell_type": "code",
   "execution_count": 11,
   "metadata": {},
   "outputs": [
    {
     "data": {
      "text/plain": [
       "4"
      ]
     },
     "execution_count": 11,
     "metadata": {},
     "output_type": "execute_result"
    }
   ],
   "source": [
    "str1 = 'efg'\n",
    "str2 = 'elz'\n",
    "edit_distance(str1, str2, len(str1) - 1, len(str2) - 1)"
   ]
  },
  {
   "cell_type": "code",
   "execution_count": 20,
   "metadata": {},
   "outputs": [],
   "source": [
    "def edit_distance_dp(str1, str2, index1, index2):\n",
    "    \n",
    "    # create a table to store results of subproblems. offset by 1 here so that we can declare the 0th index for row/col as having zero length for the corresponding str1/str2.\n",
    "    dp = [[0 for _ in range(index2+1)] for _ in range(index1+1)]\n",
    "    for i in range(index1+1):\n",
    "        for j in range(index2+1):\n",
    "            # if first string is empty, insert all characters from whatever is left of second string\n",
    "            if i == 0:\n",
    "                dp[i][j] = j\n",
    "            # if second string is empty, insert all characters from whatever is left of first string\n",
    "            elif j == 0:\n",
    "                dp[i][j] = i\n",
    "            \n",
    "            # if last characters are the same, ignore last character and get the value for remaining string\n",
    "            elif str1[i-1] == str2[j-1]:  # we need to offset here since we are thinking of i and j in terms of length of str1 and str2\n",
    "                dp[i][j] = dp[i-1][j-1]\n",
    "            \n",
    "            # if last characters are different, consider all possibilities and find min\n",
    "            else:\n",
    "                dp[i][j] = 1 + min(dp[i][j-1],\n",
    "                                   dp[i-1][j])\n",
    "    for x in dp:\n",
    "        print(*x, sep=\" \")\n",
    "        \n",
    "    return dp[index1][index2]"
   ]
  },
  {
   "cell_type": "code",
   "execution_count": 22,
   "metadata": {},
   "outputs": [
    {
     "name": "stdout",
     "output_type": "stream",
     "text": [
      "0 1 2 3 4\n",
      "1 0 1 2 3\n",
      "2 1 2 3 4\n",
      "3 2 3 4 5\n"
     ]
    },
    {
     "data": {
      "text/plain": [
       "5"
      ]
     },
     "execution_count": 22,
     "metadata": {},
     "output_type": "execute_result"
    }
   ],
   "source": [
    "str1 = 'efg'\n",
    "str2 = 'elzh'\n",
    "edit_distance_dp(str1, str2, len(str1), len(str2))"
   ]
  },
  {
   "cell_type": "code",
   "execution_count": 30,
   "metadata": {},
   "outputs": [
    {
     "data": {
      "text/plain": [
       "5"
      ]
     },
     "execution_count": 30,
     "metadata": {},
     "output_type": "execute_result"
    }
   ],
   "source": [
    "str1 = 'efg'\n",
    "str2 = 'elzh'\n",
    "edit_distance_dp_space_opt(str1, str2)"
   ]
  },
  {
   "cell_type": "code",
   "execution_count": null,
   "metadata": {},
   "outputs": [],
   "source": []
  },
  {
   "cell_type": "markdown",
   "metadata": {},
   "source": [
    "## kadane algo"
   ]
  },
  {
   "cell_type": "code",
   "execution_count": 47,
   "metadata": {},
   "outputs": [],
   "source": [
    "import sys\n",
    "def find_max_subarray(arr):\n",
    "    memo = [0 for _ in range(len(arr))]\n",
    "    memo[0] = arr[0]\n",
    "    max_so_far = arr[0]\n",
    "    for index, val in enumerate(arr[1:]):\n",
    "        memo[index] = max(val + memo[index-1], val)\n",
    "        max_so_far = max(max_so_far, memo[index])\n",
    "    return max_so_far\n",
    "    "
   ]
  },
  {
   "cell_type": "code",
   "execution_count": 48,
   "metadata": {},
   "outputs": [],
   "source": [
    "import sys\n",
    "\n",
    "def find_max_subarray(arr):\n",
    "    local_max = 0\n",
    "    global_max = -sys.maxsize\n",
    "    for val in arr:\n",
    "        local_max = max(val, val + local_max)\n",
    "        global_max = max(local_max, global_max)\n",
    "    return global_max"
   ]
  },
  {
   "cell_type": "code",
   "execution_count": 49,
   "metadata": {},
   "outputs": [
    {
     "data": {
      "text/plain": [
       "-1"
      ]
     },
     "execution_count": 49,
     "metadata": {},
     "output_type": "execute_result"
    }
   ],
   "source": [
    "x = [-2, 1, -3, 4, -1 , 2, 1, -5, 4]\n",
    "x = [-3, -2, -1, -5, -2]\n",
    "find_max_subarray(x)"
   ]
  },
  {
   "cell_type": "code",
   "execution_count": 8,
   "metadata": {},
   "outputs": [],
   "source": [
    "for _ in range(len(x)):\n",
    "    print(_)"
   ]
  },
  {
   "cell_type": "code",
   "execution_count": null,
   "metadata": {},
   "outputs": [],
   "source": [
    "\n"
   ]
  },
  {
   "cell_type": "code",
   "execution_count": 3,
   "metadata": {},
   "outputs": [
    {
     "data": {
      "text/plain": [
       "[[0, 0, 0], [0, 0, 0]]"
      ]
     },
     "execution_count": 3,
     "metadata": {},
     "output_type": "execute_result"
    }
   ],
   "source": [
    "grid = [[1,2,3],[4,5,6]]\n",
    "dp = [[0 for _ in range(len(grid[0]))] for _ in range(len(grid))]\n",
    "dp"
   ]
  },
  {
   "cell_type": "code",
   "execution_count": 6,
   "metadata": {},
   "outputs": [
    {
     "ename": "TypeError",
     "evalue": "'>' not supported between instances of 'float' and 'str'",
     "output_type": "error",
     "traceback": [
      "\u001b[0;31m---------------------------------------------------------------------------\u001b[0m",
      "\u001b[0;31mTypeError\u001b[0m                                 Traceback (most recent call last)",
      "\u001b[0;32m<ipython-input-6-6db24ca7d52b>\u001b[0m in \u001b[0;36m<module>\u001b[0;34m\u001b[0m\n\u001b[0;32m----> 1\u001b[0;31m \u001b[0mfloat\u001b[0m\u001b[0;34m(\u001b[0m\u001b[0;34m'inf'\u001b[0m\u001b[0;34m)\u001b[0m \u001b[0;34m>\u001b[0m \u001b[0;34m'x'\u001b[0m\u001b[0;34m\u001b[0m\u001b[0;34m\u001b[0m\u001b[0m\n\u001b[0m",
      "\u001b[0;31mTypeError\u001b[0m: '>' not supported between instances of 'float' and 'str'"
     ]
    }
   ],
   "source": [
    "float('inf') > x"
   ]
  },
  {
   "cell_type": "code",
   "execution_count": 10,
   "metadata": {},
   "outputs": [
    {
     "name": "stdout",
     "output_type": "stream",
     "text": [
      "1\n",
      "5\n",
      "6\n"
     ]
    }
   ],
   "source": [
    "x = [5,6,1]\n",
    "import heapq\n",
    "heapq.heapify(x)\n",
    "while x:\n",
    "    print(heapq.heappop(x))"
   ]
  },
  {
   "cell_type": "code",
   "execution_count": 13,
   "metadata": {},
   "outputs": [
    {
     "data": {
      "text/plain": [
       "[]"
      ]
     },
     "execution_count": 13,
     "metadata": {},
     "output_type": "execute_result"
    }
   ],
   "source": [
    "from collections import defaultdict\n",
    "x = defaultdict(list)\n",
    "\n",
    "x[0]"
   ]
  },
  {
   "cell_type": "code",
   "execution_count": 14,
   "metadata": {},
   "outputs": [
    {
     "data": {
      "text/plain": [
       "4"
      ]
     },
     "execution_count": 14,
     "metadata": {},
     "output_type": "execute_result"
    }
   ],
   "source": [
    "2 ** 2"
   ]
  },
  {
   "cell_type": "code",
   "execution_count": 15,
   "metadata": {},
   "outputs": [
    {
     "name": "stdout",
     "output_type": "stream",
     "text": [
      "0\n",
      "1\n",
      "2\n"
     ]
    }
   ],
   "source": [
    "x = [1,2,3,4]\n",
    "for index, val in enumerate(x[1:]):\n",
    "    print(index)"
   ]
  },
  {
   "cell_type": "code",
   "execution_count": 32,
   "metadata": {},
   "outputs": [
    {
     "name": "stdout",
     "output_type": "stream",
     "text": [
      "[0]\n",
      "[0, [0]]\n",
      "[0, [0]]\n",
      "[0, [0]]\n",
      "[0]\n",
      "[0, [4]]\n",
      "[0, [4]]\n",
      "[0]\n",
      "[0, [7]]\n"
     ]
    }
   ],
   "source": [
    "x = [1,2,3,4,3,2,4,5,5,5,6,2,3]\n",
    "x = [1,1,1,1,2,2,2,3,3,3]\n",
    "# find all local maximas\n",
    "local_maximas = [0]\n",
    "local_maxima = 0\n",
    "prev_val = x[0]\n",
    "for i in range(1, len(x)):\n",
    "    val = x[i]\n",
    "    print(local_maximas)\n",
    "    \n",
    "    if val > prev_val:\n",
    "        if isinstance(local_maximas[len(local_maximas) - 1], list):\n",
    "            local_maximas.pop(len(local_maximas) - 1)\n",
    "        local_maxima = i\n",
    "    elif val < prev_val:\n",
    "        if isinstance(local_maximas[len(local_maximas) - 1], list):\n",
    "            local_maximas[len(local_maximas) - 1].append(local_maxima)\n",
    "        if local_maximas[len(local_maximas) - 1] != local_maxima:\n",
    "            local_maximas.append(local_maxima)\n",
    "    else:\n",
    "        if isinstance(local_maximas[len(local_maximas) - 1], list) and len(local_maximas[len(local_maximas) - 1]) == 1:\n",
    "            continue\n",
    "        local_maximas.append([local_maxima])\n",
    "        local_maxima = i\n",
    "    prev_val = val\n",
    "local_maximas.append(len(x)-1)\n",
    "            \n"
   ]
  },
  {
   "cell_type": "code",
   "execution_count": 30,
   "metadata": {},
   "outputs": [
    {
     "data": {
      "text/plain": [
       "[0, [7], 9]"
      ]
     },
     "execution_count": 30,
     "metadata": {},
     "output_type": "execute_result"
    }
   ],
   "source": [
    "local_maximas"
   ]
  },
  {
   "cell_type": "code",
   "execution_count": 2,
   "metadata": {},
   "outputs": [
    {
     "name": "stdout",
     "output_type": "stream",
     "text": [
      "0\n"
     ]
    }
   ],
   "source": [
    "for i in range(1):\n",
    "    print(i)"
   ]
  },
  {
   "cell_type": "code",
   "execution_count": 2,
   "metadata": {},
   "outputs": [
    {
     "data": {
      "text/plain": [
       "False"
      ]
     },
     "execution_count": 2,
     "metadata": {},
     "output_type": "execute_result"
    }
   ],
   "source": [
    "5 > float('inf')"
   ]
  },
  {
   "cell_type": "code",
   "execution_count": 3,
   "metadata": {},
   "outputs": [
    {
     "data": {
      "text/plain": [
       "True"
      ]
     },
     "execution_count": 3,
     "metadata": {},
     "output_type": "execute_result"
    }
   ],
   "source": [
    "float('inf') == float('inf')"
   ]
  },
  {
   "cell_type": "code",
   "execution_count": 7,
   "metadata": {},
   "outputs": [
    {
     "data": {
      "text/plain": [
       "True"
      ]
     },
     "execution_count": 7,
     "metadata": {},
     "output_type": "execute_result"
    }
   ],
   "source": [
    "x = [True, False, True]\n",
    "False in x"
   ]
  },
  {
   "cell_type": "code",
   "execution_count": null,
   "metadata": {},
   "outputs": [],
   "source": []
  }
 ],
 "metadata": {
  "kernelspec": {
   "display_name": "Python 3",
   "language": "python",
   "name": "python3"
  },
  "language_info": {
   "codemirror_mode": {
    "name": "ipython",
    "version": 3
   },
   "file_extension": ".py",
   "mimetype": "text/x-python",
   "name": "python",
   "nbconvert_exporter": "python",
   "pygments_lexer": "ipython3",
   "version": "3.8.5"
  }
 },
 "nbformat": 4,
 "nbformat_minor": 4
}
